{
  "nbformat": 4,
  "nbformat_minor": 0,
  "metadata": {
    "colab": {
      "provenance": []
    },
    "kernelspec": {
      "name": "python3",
      "display_name": "Python 3"
    },
    "language_info": {
      "name": "python"
    }
  },
  "cells": [
    {
      "cell_type": "code",
      "source": [
        "!pip install lifelines"
      ],
      "metadata": {
        "colab": {
          "base_uri": "https://localhost:8080/"
        },
        "id": "pwMRjOjNzv2t",
        "outputId": "7e251400-1088-410b-d20f-c5d4c0b9321b"
      },
      "execution_count": null,
      "outputs": [
        {
          "output_type": "stream",
          "name": "stdout",
          "text": [
            "Collecting lifelines\n",
            "  Downloading lifelines-0.27.8-py3-none-any.whl (350 kB)\n",
            "\u001b[2K     \u001b[90m━━━━━━━━━━━━━━━━━━━━━━━━━━━━━━━━━━━━━━━━\u001b[0m \u001b[32m350.7/350.7 kB\u001b[0m \u001b[31m5.0 MB/s\u001b[0m eta \u001b[36m0:00:00\u001b[0m\n",
            "\u001b[?25hRequirement already satisfied: numpy<2.0,>=1.14.0 in /usr/local/lib/python3.10/dist-packages (from lifelines) (1.23.5)\n",
            "Requirement already satisfied: scipy>=1.2.0 in /usr/local/lib/python3.10/dist-packages (from lifelines) (1.11.4)\n",
            "Requirement already satisfied: pandas>=1.0.0 in /usr/local/lib/python3.10/dist-packages (from lifelines) (1.5.3)\n",
            "Requirement already satisfied: matplotlib>=3.0 in /usr/local/lib/python3.10/dist-packages (from lifelines) (3.7.1)\n",
            "Requirement already satisfied: autograd>=1.5 in /usr/local/lib/python3.10/dist-packages (from lifelines) (1.6.2)\n",
            "Collecting autograd-gamma>=0.3 (from lifelines)\n",
            "  Downloading autograd-gamma-0.5.0.tar.gz (4.0 kB)\n",
            "  Preparing metadata (setup.py) ... \u001b[?25l\u001b[?25hdone\n",
            "Collecting formulaic>=0.2.2 (from lifelines)\n",
            "  Downloading formulaic-0.6.6-py3-none-any.whl (91 kB)\n",
            "\u001b[2K     \u001b[90m━━━━━━━━━━━━━━━━━━━━━━━━━━━━━━━━━━━━━━━━\u001b[0m \u001b[32m91.0/91.0 kB\u001b[0m \u001b[31m7.8 MB/s\u001b[0m eta \u001b[36m0:00:00\u001b[0m\n",
            "\u001b[?25hRequirement already satisfied: future>=0.15.2 in /usr/local/lib/python3.10/dist-packages (from autograd>=1.5->lifelines) (0.18.3)\n",
            "Collecting astor>=0.8 (from formulaic>=0.2.2->lifelines)\n",
            "  Downloading astor-0.8.1-py2.py3-none-any.whl (27 kB)\n",
            "Collecting interface-meta>=1.2.0 (from formulaic>=0.2.2->lifelines)\n",
            "  Downloading interface_meta-1.3.0-py3-none-any.whl (14 kB)\n",
            "Requirement already satisfied: typing-extensions>=4.2.0 in /usr/local/lib/python3.10/dist-packages (from formulaic>=0.2.2->lifelines) (4.5.0)\n",
            "Requirement already satisfied: wrapt>=1.0 in /usr/local/lib/python3.10/dist-packages (from formulaic>=0.2.2->lifelines) (1.14.1)\n",
            "Requirement already satisfied: contourpy>=1.0.1 in /usr/local/lib/python3.10/dist-packages (from matplotlib>=3.0->lifelines) (1.2.0)\n",
            "Requirement already satisfied: cycler>=0.10 in /usr/local/lib/python3.10/dist-packages (from matplotlib>=3.0->lifelines) (0.12.1)\n",
            "Requirement already satisfied: fonttools>=4.22.0 in /usr/local/lib/python3.10/dist-packages (from matplotlib>=3.0->lifelines) (4.46.0)\n",
            "Requirement already satisfied: kiwisolver>=1.0.1 in /usr/local/lib/python3.10/dist-packages (from matplotlib>=3.0->lifelines) (1.4.5)\n",
            "Requirement already satisfied: packaging>=20.0 in /usr/local/lib/python3.10/dist-packages (from matplotlib>=3.0->lifelines) (23.2)\n",
            "Requirement already satisfied: pillow>=6.2.0 in /usr/local/lib/python3.10/dist-packages (from matplotlib>=3.0->lifelines) (9.4.0)\n",
            "Requirement already satisfied: pyparsing>=2.3.1 in /usr/local/lib/python3.10/dist-packages (from matplotlib>=3.0->lifelines) (3.1.1)\n",
            "Requirement already satisfied: python-dateutil>=2.7 in /usr/local/lib/python3.10/dist-packages (from matplotlib>=3.0->lifelines) (2.8.2)\n",
            "Requirement already satisfied: pytz>=2020.1 in /usr/local/lib/python3.10/dist-packages (from pandas>=1.0.0->lifelines) (2023.3.post1)\n",
            "Requirement already satisfied: six>=1.5 in /usr/local/lib/python3.10/dist-packages (from python-dateutil>=2.7->matplotlib>=3.0->lifelines) (1.16.0)\n",
            "Building wheels for collected packages: autograd-gamma\n",
            "  Building wheel for autograd-gamma (setup.py) ... \u001b[?25l\u001b[?25hdone\n",
            "  Created wheel for autograd-gamma: filename=autograd_gamma-0.5.0-py3-none-any.whl size=4031 sha256=c6af5a63deafe50e93375fb5890cfaec48b2adf52dc7c73b2a4e48c6431a0868\n",
            "  Stored in directory: /root/.cache/pip/wheels/25/cc/e0/ef2969164144c899fedb22b338f6703e2b9cf46eeebf254991\n",
            "Successfully built autograd-gamma\n",
            "Installing collected packages: interface-meta, astor, autograd-gamma, formulaic, lifelines\n",
            "Successfully installed astor-0.8.1 autograd-gamma-0.5.0 formulaic-0.6.6 interface-meta-1.3.0 lifelines-0.27.8\n"
          ]
        }
      ]
    },
    {
      "cell_type": "code",
      "execution_count": null,
      "metadata": {
        "id": "YSmK6eNxzqdF"
      },
      "outputs": [],
      "source": [
        "import pandas as pd\n",
        "import numpy as np\n",
        "import matplotlib.pyplot as plt\n",
        "import sklearn\n",
        "import random\n",
        "import lifelines\n",
        "import itertools\n",
        "#from public_tests import *\n",
        "\n",
        "plt.rcParams['figure.figsize'] = [10, 7]"
      ]
    },
    {
      "cell_type": "code",
      "source": [
        "data = pd.read_csv(\"/content/levamisole_data.csv\", index_col=0)"
      ],
      "metadata": {
        "id": "HNj8I0hSz1NV"
      },
      "execution_count": null,
      "outputs": []
    },
    {
      "cell_type": "code",
      "source": [
        "print(f\"Data Dimensions: {data.shape}\")\n",
        "data.head()"
      ],
      "metadata": {
        "colab": {
          "base_uri": "https://localhost:8080/",
          "height": 224
        },
        "id": "tn1ho_9d0SIm",
        "outputId": "714cadb0-9795-45dc-9490-86112e236a31"
      },
      "execution_count": null,
      "outputs": [
        {
          "output_type": "stream",
          "name": "stdout",
          "text": [
            "Data Dimensions: (607, 14)\n"
          ]
        },
        {
          "output_type": "execute_result",
          "data": {
            "text/plain": [
              "   sex  age  obstruct  perfor  adhere  nodes  node4  outcome  TRTMT  \\\n",
              "1    1   43         0       0       0    5.0      1        1   True   \n",
              "2    1   63         0       0       0    1.0      0        0   True   \n",
              "3    0   71         0       0       1    7.0      1        1  False   \n",
              "4    0   66         1       0       0    6.0      1        1   True   \n",
              "5    1   69         0       0       0   22.0      1        1  False   \n",
              "\n",
              "   differ_2.0  differ_3.0  extent_2  extent_3  extent_4  \n",
              "1           1           0         0         1         0  \n",
              "2           1           0         0         1         0  \n",
              "3           1           0         1         0         0  \n",
              "4           1           0         0         1         0  \n",
              "5           1           0         0         1         0  "
            ],
            "text/html": [
              "\n",
              "  <div id=\"df-e6bf0aa3-5dcd-4872-a7ae-35fb43d4f251\" class=\"colab-df-container\">\n",
              "    <div>\n",
              "<style scoped>\n",
              "    .dataframe tbody tr th:only-of-type {\n",
              "        vertical-align: middle;\n",
              "    }\n",
              "\n",
              "    .dataframe tbody tr th {\n",
              "        vertical-align: top;\n",
              "    }\n",
              "\n",
              "    .dataframe thead th {\n",
              "        text-align: right;\n",
              "    }\n",
              "</style>\n",
              "<table border=\"1\" class=\"dataframe\">\n",
              "  <thead>\n",
              "    <tr style=\"text-align: right;\">\n",
              "      <th></th>\n",
              "      <th>sex</th>\n",
              "      <th>age</th>\n",
              "      <th>obstruct</th>\n",
              "      <th>perfor</th>\n",
              "      <th>adhere</th>\n",
              "      <th>nodes</th>\n",
              "      <th>node4</th>\n",
              "      <th>outcome</th>\n",
              "      <th>TRTMT</th>\n",
              "      <th>differ_2.0</th>\n",
              "      <th>differ_3.0</th>\n",
              "      <th>extent_2</th>\n",
              "      <th>extent_3</th>\n",
              "      <th>extent_4</th>\n",
              "    </tr>\n",
              "  </thead>\n",
              "  <tbody>\n",
              "    <tr>\n",
              "      <th>1</th>\n",
              "      <td>1</td>\n",
              "      <td>43</td>\n",
              "      <td>0</td>\n",
              "      <td>0</td>\n",
              "      <td>0</td>\n",
              "      <td>5.0</td>\n",
              "      <td>1</td>\n",
              "      <td>1</td>\n",
              "      <td>True</td>\n",
              "      <td>1</td>\n",
              "      <td>0</td>\n",
              "      <td>0</td>\n",
              "      <td>1</td>\n",
              "      <td>0</td>\n",
              "    </tr>\n",
              "    <tr>\n",
              "      <th>2</th>\n",
              "      <td>1</td>\n",
              "      <td>63</td>\n",
              "      <td>0</td>\n",
              "      <td>0</td>\n",
              "      <td>0</td>\n",
              "      <td>1.0</td>\n",
              "      <td>0</td>\n",
              "      <td>0</td>\n",
              "      <td>True</td>\n",
              "      <td>1</td>\n",
              "      <td>0</td>\n",
              "      <td>0</td>\n",
              "      <td>1</td>\n",
              "      <td>0</td>\n",
              "    </tr>\n",
              "    <tr>\n",
              "      <th>3</th>\n",
              "      <td>0</td>\n",
              "      <td>71</td>\n",
              "      <td>0</td>\n",
              "      <td>0</td>\n",
              "      <td>1</td>\n",
              "      <td>7.0</td>\n",
              "      <td>1</td>\n",
              "      <td>1</td>\n",
              "      <td>False</td>\n",
              "      <td>1</td>\n",
              "      <td>0</td>\n",
              "      <td>1</td>\n",
              "      <td>0</td>\n",
              "      <td>0</td>\n",
              "    </tr>\n",
              "    <tr>\n",
              "      <th>4</th>\n",
              "      <td>0</td>\n",
              "      <td>66</td>\n",
              "      <td>1</td>\n",
              "      <td>0</td>\n",
              "      <td>0</td>\n",
              "      <td>6.0</td>\n",
              "      <td>1</td>\n",
              "      <td>1</td>\n",
              "      <td>True</td>\n",
              "      <td>1</td>\n",
              "      <td>0</td>\n",
              "      <td>0</td>\n",
              "      <td>1</td>\n",
              "      <td>0</td>\n",
              "    </tr>\n",
              "    <tr>\n",
              "      <th>5</th>\n",
              "      <td>1</td>\n",
              "      <td>69</td>\n",
              "      <td>0</td>\n",
              "      <td>0</td>\n",
              "      <td>0</td>\n",
              "      <td>22.0</td>\n",
              "      <td>1</td>\n",
              "      <td>1</td>\n",
              "      <td>False</td>\n",
              "      <td>1</td>\n",
              "      <td>0</td>\n",
              "      <td>0</td>\n",
              "      <td>1</td>\n",
              "      <td>0</td>\n",
              "    </tr>\n",
              "  </tbody>\n",
              "</table>\n",
              "</div>\n",
              "    <div class=\"colab-df-buttons\">\n",
              "\n",
              "  <div class=\"colab-df-container\">\n",
              "    <button class=\"colab-df-convert\" onclick=\"convertToInteractive('df-e6bf0aa3-5dcd-4872-a7ae-35fb43d4f251')\"\n",
              "            title=\"Convert this dataframe to an interactive table.\"\n",
              "            style=\"display:none;\">\n",
              "\n",
              "  <svg xmlns=\"http://www.w3.org/2000/svg\" height=\"24px\" viewBox=\"0 -960 960 960\">\n",
              "    <path d=\"M120-120v-720h720v720H120Zm60-500h600v-160H180v160Zm220 220h160v-160H400v160Zm0 220h160v-160H400v160ZM180-400h160v-160H180v160Zm440 0h160v-160H620v160ZM180-180h160v-160H180v160Zm440 0h160v-160H620v160Z\"/>\n",
              "  </svg>\n",
              "    </button>\n",
              "\n",
              "  <style>\n",
              "    .colab-df-container {\n",
              "      display:flex;\n",
              "      gap: 12px;\n",
              "    }\n",
              "\n",
              "    .colab-df-convert {\n",
              "      background-color: #E8F0FE;\n",
              "      border: none;\n",
              "      border-radius: 50%;\n",
              "      cursor: pointer;\n",
              "      display: none;\n",
              "      fill: #1967D2;\n",
              "      height: 32px;\n",
              "      padding: 0 0 0 0;\n",
              "      width: 32px;\n",
              "    }\n",
              "\n",
              "    .colab-df-convert:hover {\n",
              "      background-color: #E2EBFA;\n",
              "      box-shadow: 0px 1px 2px rgba(60, 64, 67, 0.3), 0px 1px 3px 1px rgba(60, 64, 67, 0.15);\n",
              "      fill: #174EA6;\n",
              "    }\n",
              "\n",
              "    .colab-df-buttons div {\n",
              "      margin-bottom: 4px;\n",
              "    }\n",
              "\n",
              "    [theme=dark] .colab-df-convert {\n",
              "      background-color: #3B4455;\n",
              "      fill: #D2E3FC;\n",
              "    }\n",
              "\n",
              "    [theme=dark] .colab-df-convert:hover {\n",
              "      background-color: #434B5C;\n",
              "      box-shadow: 0px 1px 3px 1px rgba(0, 0, 0, 0.15);\n",
              "      filter: drop-shadow(0px 1px 2px rgba(0, 0, 0, 0.3));\n",
              "      fill: #FFFFFF;\n",
              "    }\n",
              "  </style>\n",
              "\n",
              "    <script>\n",
              "      const buttonEl =\n",
              "        document.querySelector('#df-e6bf0aa3-5dcd-4872-a7ae-35fb43d4f251 button.colab-df-convert');\n",
              "      buttonEl.style.display =\n",
              "        google.colab.kernel.accessAllowed ? 'block' : 'none';\n",
              "\n",
              "      async function convertToInteractive(key) {\n",
              "        const element = document.querySelector('#df-e6bf0aa3-5dcd-4872-a7ae-35fb43d4f251');\n",
              "        const dataTable =\n",
              "          await google.colab.kernel.invokeFunction('convertToInteractive',\n",
              "                                                    [key], {});\n",
              "        if (!dataTable) return;\n",
              "\n",
              "        const docLinkHtml = 'Like what you see? Visit the ' +\n",
              "          '<a target=\"_blank\" href=https://colab.research.google.com/notebooks/data_table.ipynb>data table notebook</a>'\n",
              "          + ' to learn more about interactive tables.';\n",
              "        element.innerHTML = '';\n",
              "        dataTable['output_type'] = 'display_data';\n",
              "        await google.colab.output.renderOutput(dataTable, element);\n",
              "        const docLink = document.createElement('div');\n",
              "        docLink.innerHTML = docLinkHtml;\n",
              "        element.appendChild(docLink);\n",
              "      }\n",
              "    </script>\n",
              "  </div>\n",
              "\n",
              "\n",
              "<div id=\"df-8e75ba5b-8f62-4989-a7c7-eced018ff5ce\">\n",
              "  <button class=\"colab-df-quickchart\" onclick=\"quickchart('df-8e75ba5b-8f62-4989-a7c7-eced018ff5ce')\"\n",
              "            title=\"Suggest charts\"\n",
              "            style=\"display:none;\">\n",
              "\n",
              "<svg xmlns=\"http://www.w3.org/2000/svg\" height=\"24px\"viewBox=\"0 0 24 24\"\n",
              "     width=\"24px\">\n",
              "    <g>\n",
              "        <path d=\"M19 3H5c-1.1 0-2 .9-2 2v14c0 1.1.9 2 2 2h14c1.1 0 2-.9 2-2V5c0-1.1-.9-2-2-2zM9 17H7v-7h2v7zm4 0h-2V7h2v10zm4 0h-2v-4h2v4z\"/>\n",
              "    </g>\n",
              "</svg>\n",
              "  </button>\n",
              "\n",
              "<style>\n",
              "  .colab-df-quickchart {\n",
              "      --bg-color: #E8F0FE;\n",
              "      --fill-color: #1967D2;\n",
              "      --hover-bg-color: #E2EBFA;\n",
              "      --hover-fill-color: #174EA6;\n",
              "      --disabled-fill-color: #AAA;\n",
              "      --disabled-bg-color: #DDD;\n",
              "  }\n",
              "\n",
              "  [theme=dark] .colab-df-quickchart {\n",
              "      --bg-color: #3B4455;\n",
              "      --fill-color: #D2E3FC;\n",
              "      --hover-bg-color: #434B5C;\n",
              "      --hover-fill-color: #FFFFFF;\n",
              "      --disabled-bg-color: #3B4455;\n",
              "      --disabled-fill-color: #666;\n",
              "  }\n",
              "\n",
              "  .colab-df-quickchart {\n",
              "    background-color: var(--bg-color);\n",
              "    border: none;\n",
              "    border-radius: 50%;\n",
              "    cursor: pointer;\n",
              "    display: none;\n",
              "    fill: var(--fill-color);\n",
              "    height: 32px;\n",
              "    padding: 0;\n",
              "    width: 32px;\n",
              "  }\n",
              "\n",
              "  .colab-df-quickchart:hover {\n",
              "    background-color: var(--hover-bg-color);\n",
              "    box-shadow: 0 1px 2px rgba(60, 64, 67, 0.3), 0 1px 3px 1px rgba(60, 64, 67, 0.15);\n",
              "    fill: var(--button-hover-fill-color);\n",
              "  }\n",
              "\n",
              "  .colab-df-quickchart-complete:disabled,\n",
              "  .colab-df-quickchart-complete:disabled:hover {\n",
              "    background-color: var(--disabled-bg-color);\n",
              "    fill: var(--disabled-fill-color);\n",
              "    box-shadow: none;\n",
              "  }\n",
              "\n",
              "  .colab-df-spinner {\n",
              "    border: 2px solid var(--fill-color);\n",
              "    border-color: transparent;\n",
              "    border-bottom-color: var(--fill-color);\n",
              "    animation:\n",
              "      spin 1s steps(1) infinite;\n",
              "  }\n",
              "\n",
              "  @keyframes spin {\n",
              "    0% {\n",
              "      border-color: transparent;\n",
              "      border-bottom-color: var(--fill-color);\n",
              "      border-left-color: var(--fill-color);\n",
              "    }\n",
              "    20% {\n",
              "      border-color: transparent;\n",
              "      border-left-color: var(--fill-color);\n",
              "      border-top-color: var(--fill-color);\n",
              "    }\n",
              "    30% {\n",
              "      border-color: transparent;\n",
              "      border-left-color: var(--fill-color);\n",
              "      border-top-color: var(--fill-color);\n",
              "      border-right-color: var(--fill-color);\n",
              "    }\n",
              "    40% {\n",
              "      border-color: transparent;\n",
              "      border-right-color: var(--fill-color);\n",
              "      border-top-color: var(--fill-color);\n",
              "    }\n",
              "    60% {\n",
              "      border-color: transparent;\n",
              "      border-right-color: var(--fill-color);\n",
              "    }\n",
              "    80% {\n",
              "      border-color: transparent;\n",
              "      border-right-color: var(--fill-color);\n",
              "      border-bottom-color: var(--fill-color);\n",
              "    }\n",
              "    90% {\n",
              "      border-color: transparent;\n",
              "      border-bottom-color: var(--fill-color);\n",
              "    }\n",
              "  }\n",
              "</style>\n",
              "\n",
              "  <script>\n",
              "    async function quickchart(key) {\n",
              "      const quickchartButtonEl =\n",
              "        document.querySelector('#' + key + ' button');\n",
              "      quickchartButtonEl.disabled = true;  // To prevent multiple clicks.\n",
              "      quickchartButtonEl.classList.add('colab-df-spinner');\n",
              "      try {\n",
              "        const charts = await google.colab.kernel.invokeFunction(\n",
              "            'suggestCharts', [key], {});\n",
              "      } catch (error) {\n",
              "        console.error('Error during call to suggestCharts:', error);\n",
              "      }\n",
              "      quickchartButtonEl.classList.remove('colab-df-spinner');\n",
              "      quickchartButtonEl.classList.add('colab-df-quickchart-complete');\n",
              "    }\n",
              "    (() => {\n",
              "      let quickchartButtonEl =\n",
              "        document.querySelector('#df-8e75ba5b-8f62-4989-a7c7-eced018ff5ce button');\n",
              "      quickchartButtonEl.style.display =\n",
              "        google.colab.kernel.accessAllowed ? 'block' : 'none';\n",
              "    })();\n",
              "  </script>\n",
              "</div>\n",
              "    </div>\n",
              "  </div>\n"
            ]
          },
          "metadata": {},
          "execution_count": 4
        }
      ]
    },
    {
      "cell_type": "code",
      "source": [
        "def proportion_treated(df):\n",
        "    \"\"\"\n",
        "    Compute proportion of trial participants who have been treated\n",
        "\n",
        "    Args:\n",
        "        df (dataframe): dataframe containing trial results. Column\n",
        "                      'TRTMT' is 1 if patient was treated, 0 otherwise.\n",
        "\n",
        "    Returns:\n",
        "        result (float): proportion of patients who were treated\n",
        "    \"\"\"\n",
        "\n",
        "    proportion = sum(df.TRTMT==1)/len(df.TRTMT)\n",
        "\n",
        "\n",
        "    return proportion"
      ],
      "metadata": {
        "id": "7uMuSD2x0Ur8"
      },
      "execution_count": null,
      "outputs": []
    },
    {
      "cell_type": "code",
      "source": [
        "print(\"dataframe:\\n\")\n",
        "example_df = pd.DataFrame(data =[[0, 0],\n",
        "                                 [1, 1],\n",
        "                                 [1, 1],\n",
        "                                 [1, 1]], columns = ['outcome', 'TRTMT'])\n",
        "print(example_df)\n",
        "print(\"\\n\")\n",
        "treated_proportion = proportion_treated(example_df)\n",
        "print(f\"Proportion of patient treated: computed {treated_proportion}, expected: 0.75\")"
      ],
      "metadata": {
        "colab": {
          "base_uri": "https://localhost:8080/"
        },
        "id": "KOOioNJSlLJT",
        "outputId": "636c55dd-3f97-4765-e863-85b18a2e682d"
      },
      "execution_count": null,
      "outputs": [
        {
          "output_type": "stream",
          "name": "stdout",
          "text": [
            "dataframe:\n",
            "\n",
            "   outcome  TRTMT\n",
            "0        0      0\n",
            "1        1      1\n",
            "2        1      1\n",
            "3        1      1\n",
            "\n",
            "\n",
            "Proportion of patient treated: computed 0.75, expected: 0.75\n"
          ]
        }
      ]
    },
    {
      "cell_type": "code",
      "source": [
        "p = proportion_treated(data)\n",
        "print(f\"Proportion Treated: {p} ~ {int(p*100)}%\")"
      ],
      "metadata": {
        "colab": {
          "base_uri": "https://localhost:8080/"
        },
        "id": "tfKkMrhr0rYb",
        "outputId": "b166a1a7-bd38-43c9-feb5-752ea3615d69"
      },
      "execution_count": null,
      "outputs": [
        {
          "output_type": "stream",
          "name": "stdout",
          "text": [
            "Proportion Treated: 0.49093904448105435 ~ 49%\n"
          ]
        }
      ]
    },
    {
      "cell_type": "code",
      "source": [
        "def event_rate(df):\n",
        "    '''\n",
        "    Compute empirical rate of death within 5 years\n",
        "    for treated and untreated groups.\n",
        "\n",
        "    Args:\n",
        "        df (dataframe): dataframe containing trial results.\n",
        "                          'TRTMT' column is 1 if patient was treated, 0 otherwise.\n",
        "                            'outcome' column is 1 if patient died within 5 years, 0 otherwise.\n",
        "\n",
        "    Returns:\n",
        "        treated_prob (float): empirical probability of death given treatment\n",
        "        untreated_prob (float): empirical probability of death given control\n",
        "    '''\n",
        "\n",
        "    treated_prob = 0.0\n",
        "    control_prob = 0.0\n",
        "\n",
        "    treated_prob = sum((df.TRTMT == 1) & (df.outcome == 1)) / sum((df.TRTMT == 1))\n",
        "    control_prob = sum((df.TRTMT == 0) & (df.outcome == 1)) / sum((df.TRTMT == 0))\n",
        "\n",
        "\n",
        "    return treated_prob, control_prob"
      ],
      "metadata": {
        "id": "evXxTYDx0uDy"
      },
      "execution_count": null,
      "outputs": []
    },
    {
      "cell_type": "code",
      "source": [
        "print(\"TEST CASE\\ndataframe:\\n\")\n",
        "example_df = pd.DataFrame(data =[[0, 1],\n",
        "                                 [1, 1],\n",
        "                                 [1, 1],\n",
        "                                 [0, 1],\n",
        "                                 [1, 0],\n",
        "                                 [1, 0],\n",
        "                                 [1, 0],\n",
        "                                 [0, 0]], columns = ['outcome', 'TRTMT'])\n",
        "#print(\"dataframe:\\n\")\n",
        "print(example_df)\n",
        "print(\"\\n\")\n",
        "treated_prob, control_prob = event_rate(example_df)\n",
        "print(f\"Treated 5-year death rate, expected: 0.5, got: {treated_prob:.4f}\")\n",
        "print(f\"Control 5-year death rate, expected: 0.75, got: {control_prob:.4f}\")"
      ],
      "metadata": {
        "colab": {
          "base_uri": "https://localhost:8080/"
        },
        "id": "0fAhmDQwlRbN",
        "outputId": "ac0be9a1-471f-48d5-f99b-98f9c248d4ea"
      },
      "execution_count": null,
      "outputs": [
        {
          "output_type": "stream",
          "name": "stdout",
          "text": [
            "TEST CASE\n",
            "dataframe:\n",
            "\n",
            "   outcome  TRTMT\n",
            "0        0      1\n",
            "1        1      1\n",
            "2        1      1\n",
            "3        0      1\n",
            "4        1      0\n",
            "5        1      0\n",
            "6        1      0\n",
            "7        0      0\n",
            "\n",
            "\n",
            "Treated 5-year death rate, expected: 0.5, got: 0.5000\n",
            "Control 5-year death rate, expected: 0.75, got: 0.7500\n"
          ]
        }
      ]
    },
    {
      "cell_type": "code",
      "source": [
        "treated_prob, control_prob = event_rate(data)\n",
        "\n",
        "print(f\"Death rate for treated patients: {treated_prob:.4f} ~ {int(treated_prob*100)}%\")\n",
        "print(f\"Death rate for untreated patients: {control_prob:.4f} ~ {int(control_prob*100)}%\")"
      ],
      "metadata": {
        "colab": {
          "base_uri": "https://localhost:8080/"
        },
        "id": "ySlaAfy3iRfL",
        "outputId": "6ba9a467-4c15-485e-b5cb-831e4a1ca50d"
      },
      "execution_count": null,
      "outputs": [
        {
          "output_type": "stream",
          "name": "stdout",
          "text": [
            "Death rate for treated patients: 0.3725 ~ 37%\n",
            "Death rate for untreated patients: 0.4822 ~ 48%\n"
          ]
        }
      ]
    },
    {
      "cell_type": "code",
      "source": [
        "from sklearn.model_selection import train_test_split\n",
        "np.random.seed(18)\n",
        "random.seed(1)\n",
        "\n",
        "data = data.dropna(axis=0)\n",
        "y = data.outcome\n",
        "\n",
        "X = data.drop('outcome', axis=1)\n",
        "X_dev, X_test, y_dev, y_test = train_test_split(X, y, test_size = 0.25, random_state=0)"
      ],
      "metadata": {
        "id": "YnDem1kAiRkK"
      },
      "execution_count": null,
      "outputs": []
    },
    {
      "cell_type": "code",
      "source": [
        "print(f\"dev set shape: {X_dev.shape}\")\n",
        "print(f\"test set shape: {X_test.shape}\")"
      ],
      "metadata": {
        "colab": {
          "base_uri": "https://localhost:8080/"
        },
        "id": "v9bZeDXLiRmz",
        "outputId": "aa983e60-c45f-4b9a-8d83-9970e0090142"
      },
      "execution_count": null,
      "outputs": [
        {
          "output_type": "stream",
          "name": "stdout",
          "text": [
            "dev set shape: (455, 13)\n",
            "test set shape: (152, 13)\n"
          ]
        }
      ]
    },
    {
      "cell_type": "code",
      "source": [
        "from sklearn.linear_model import LogisticRegression\n",
        "\n",
        "lr = LogisticRegression(penalty='l2',solver='lbfgs', max_iter=10000).fit(X_dev, y_dev)"
      ],
      "metadata": {
        "id": "oFv95ihaiXzV"
      },
      "execution_count": null,
      "outputs": []
    },
    {
      "cell_type": "code",
      "source": [
        "def extract_treatment_effect(lr, data):\n",
        "    theta_TRTMT = 0.0\n",
        "    TRTMT_OR = 0.0\n",
        "    coeffs = {data.columns[i]:lr.coef_[0][i] for i in range(len(data.columns))}\n",
        "\n",
        "    # get the treatment coefficient\n",
        "    theta_TRTMT = coeffs['TRTMT']\n",
        "\n",
        "    # calculate the Odds ratio for treatment\n",
        "    TRTMT_OR = np.exp(theta_TRTMT)\n",
        "\n",
        "    return theta_TRTMT, TRTMT_OR"
      ],
      "metadata": {
        "id": "HxJzSkq8ibxE"
      },
      "execution_count": null,
      "outputs": []
    },
    {
      "cell_type": "code",
      "source": [
        "theta_TRTMT, trtmt_OR = extract_treatment_effect(lr, X_dev)\n",
        "print(f\"Theta_TRTMT: {theta_TRTMT:.4f}\")\n",
        "print(f\"Treatment Odds Ratio: {trtmt_OR:.4f}\")"
      ],
      "metadata": {
        "colab": {
          "base_uri": "https://localhost:8080/"
        },
        "id": "6RSUpELLilxQ",
        "outputId": "d372ec1f-1e32-4196-97d2-63d8dd8796bb"
      },
      "execution_count": null,
      "outputs": [
        {
          "output_type": "stream",
          "name": "stdout",
          "text": [
            "Theta_TRTMT: -0.2886\n",
            "Treatment Odds Ratio: 0.7493\n"
          ]
        }
      ]
    },
    {
      "cell_type": "code",
      "source": [
        "def OR_to_ARR(p, OR):\n",
        "    \"\"\"\n",
        "    Compute ARR for treatment for individuals given\n",
        "    baseline risk and odds ratio of treatment.\n",
        "\n",
        "    Args:\n",
        "        p (float): baseline probability of risk (without treatment)\n",
        "        OR (float): odds ratio of treatment versus baseline\n",
        "\n",
        "    Returns:\n",
        "        ARR (float): absolute risk reduction for treatment\n",
        "      \"\"\"\n",
        "\n",
        "    # compute baseline odds from p\n",
        "    odds_baseline = p/(1-p)\n",
        "\n",
        "    # compute odds of treatment using odds ratio\n",
        "    odds_trtmt = OR*odds_baseline\n",
        "\n",
        "    # compute new probability of death from treatment odds\n",
        "    p_trtmt = odds_trtmt/(1+odds_trtmt)\n",
        "\n",
        "    # compute ARR using treated probability and baseline probability\n",
        "    ARR = p - p_trtmt\n",
        "\n",
        "    return ARR"
      ],
      "metadata": {
        "id": "8ioztmneilzl"
      },
      "execution_count": null,
      "outputs": []
    },
    {
      "cell_type": "code",
      "source": [
        "ps = np.arange(0.001, 0.999, 0.001)\n",
        "diffs = [OR_to_ARR(p, trtmt_OR) for p in ps]\n",
        "plt.plot(ps, diffs)\n",
        "plt.title(\"Absolute Risk Reduction for Constant Treatment OR\")\n",
        "plt.xlabel('Baseline Risk')\n",
        "plt.ylabel('Absolute Risk Reduction')\n",
        "plt.show()"
      ],
      "metadata": {
        "colab": {
          "base_uri": "https://localhost:8080/",
          "height": 641
        },
        "id": "_97XDiokil18",
        "outputId": "6f2f2883-d29e-4170-ebd1-76d273f74680"
      },
      "execution_count": null,
      "outputs": [
        {
          "output_type": "display_data",
          "data": {
            "text/plain": [
              "<Figure size 1000x700 with 1 Axes>"
            ],
            "image/png": "[encoded data removed]"
          },
          "metadata": {}
        }
      ]
    },
    {
      "cell_type": "code",
      "source": [
        "def base_risks(X, lr_model):\n",
        "    \"\"\"\n",
        "    Compute baseline risks for each individual in X.\n",
        "\n",
        "    Args:\n",
        "        X (dataframe): data from trial. 'TRTMT' column\n",
        "                       is 1 if subject retrieved treatment, 0 otherwise\n",
        "        lr_model (model): logistic regression model\n",
        "\n",
        "    Returns:\n",
        "        risks (np.array): array of predicted baseline risk\n",
        "                          for each subject in X\n",
        "    \"\"\"\n",
        "\n",
        "    # first make a copy of the dataframe so as not to overwrite the original\n",
        "    X = X.copy(deep=True)\n",
        "\n",
        "    # Set the treatment variable to assume that the patient did not receive treatment\n",
        "    X.TRTMT = False\n",
        "\n",
        "    # Input the features into the model, and predict the probability of death.\n",
        "    risks = lr_model.predict_proba(X)[:,1]\n",
        "\n",
        "    return risks"
      ],
      "metadata": {
        "id": "50kUJwg6jNTl"
      },
      "execution_count": null,
      "outputs": []
    },
    {
      "cell_type": "code",
      "source": [
        "def lr_ARR_quantile(X, y, lr):\n",
        "\n",
        "    # first make a deep copy of the features dataframe to calculate the base risks\n",
        "    X = X.copy(deep=True)\n",
        "\n",
        "    # Make another deep copy of the features dataframe to store baseline risk, risk_group, and y\n",
        "    df = X.copy(deep=True)\n",
        "\n",
        "    ### START CODE HERE (REPLACE INSTANCES OF 'None' with your code) ###\n",
        "    # Calculate the baseline risks (use the function that you just implemented)\n",
        "    baseline_risk = base_risks(df.copy(deep=True), lr)\n",
        "\n",
        "    # bin patients into 10 risk groups based on their baseline risks\n",
        "    risk_groups = pd.cut(baseline_risk,10)\n",
        "\n",
        "    # Store the baseline risk, risk_groups, and y into the new dataframe\n",
        "    df.loc[:, 'baseline_risk'] = baseline_risk\n",
        "    df.loc[:, 'risk_group'] = risk_groups\n",
        "    df.loc[:, 'y'] = y_dev\n",
        "\n",
        "    # select the subset of patients who did not actually receive treatment\n",
        "    df_baseline = df[df.TRTMT==False]\n",
        "\n",
        "    # select the subset of patients who did actually receive treatment\n",
        "    df_treatment = df[df.TRTMT==True]\n",
        "\n",
        "    # For baseline patients, group them by risk group, select their outcome 'y', and take the mean\n",
        "    baseline_mean_by_risk_group = df_baseline.groupby('risk_group')['y'].mean()\n",
        "\n",
        "    # For treatment patients, group them by risk group, select their outcome 'y', and take the mean\n",
        "    treatment_mean_by_risk_group = df_treatment.groupby('risk_group')['y'].mean()\n",
        "\n",
        "    # Calculate the absolute risk reduction by risk group (baseline minus treatment)\n",
        "    arr_by_risk_group = baseline_mean_by_risk_group - treatment_mean_by_risk_group\n",
        "\n",
        "    # Set the index of the arr_by_risk_group dataframe to the average baseline risk of each risk group\n",
        "    # Use data for all patients to calculate the average baseline risk, grouped by risk group.\n",
        "    arr_by_risk_group.index = df.groupby('risk_group')['baseline_risk'].mean()\n",
        "\n",
        "    ### END CODE HERE ###\n",
        "\n",
        "    # Set the name of the Series to 'ARR'\n",
        "    arr_by_risk_group.name = 'ARR'\n",
        "\n",
        "    return arr_by_risk_group"
      ],
      "metadata": {
        "id": "JZLW8tdejTZc"
      },
      "execution_count": null,
      "outputs": []
    },
    {
      "cell_type": "code",
      "source": [
        "abs_risks = lr_ARR_quantile(X_dev, y_dev, lr)\n",
        "\n",
        "# print the Series\n",
        "print(abs_risks)"
      ],
      "metadata": {
        "colab": {
          "base_uri": "https://localhost:8080/"
        },
        "id": "lLTSbtXCjh0u",
        "outputId": "85d970b0-b0ff-4de3-e31f-232fac3927da"
      },
      "execution_count": null,
      "outputs": [
        {
          "output_type": "stream",
          "name": "stdout",
          "text": [
            "baseline_risk\n",
            "0.231680    0.089744\n",
            "0.314204    0.042857\n",
            "0.386420   -0.014604\n",
            "0.459669    0.138889\n",
            "0.532881    0.083333\n",
            "0.627058   -0.104072\n",
            "0.693463    0.150000\n",
            "0.777251    0.293706\n",
            "0.836416    0.083333\n",
            "0.918760    0.200000\n",
            "Name: ARR, dtype: float64\n"
          ]
        }
      ]
    },
    {
      "cell_type": "code",
      "source": [
        "plt.scatter(abs_risks.index, abs_risks, label='empirical ARR')\n",
        "plt.title(\"Empirical Absolute Risk Reduction vs. Baseline Risk\")\n",
        "plt.ylabel(\"Absolute Risk Reduction\")\n",
        "plt.xlabel(\"Baseline Risk Range\")\n",
        "ps = np.arange(abs_risks.index[0]-0.05, abs_risks.index[-1]+0.05, 0.01)\n",
        "diffs = [OR_to_ARR(p, trtmt_OR) for p in ps]\n",
        "plt.plot(ps, diffs, label='predicted ARR')\n",
        "plt.legend(loc='upper right')\n",
        "plt.show()"
      ],
      "metadata": {
        "colab": {
          "base_uri": "https://localhost:8080/",
          "height": 641
        },
        "id": "X0W_08t_lu3J",
        "outputId": "6f38a51b-d87c-46f7-ea45-79c2dfa33eca"
      },
      "execution_count": null,
      "outputs": [
        {
          "output_type": "display_data",
          "data": {
            "text/plain": [
              "<Figure size 1000x700 with 1 Axes>"
            ],
            "image/png": "[encoded data removed]"
          },
          "metadata": {}
        }
      ]
    },
    {
      "cell_type": "code",
      "source": [
        "def c_for_benefit_score(pairs):\n",
        "    \"\"\"\n",
        "    Compute c-statistic-for-benefit given list of\n",
        "    individuals matched across treatment and control arms.\n",
        "\n",
        "    Args:\n",
        "        pairs (list of tuples): each element of the list is a tuple of individuals,\n",
        "                                the first from the control arm and the second from\n",
        "                                the treatment arm. Each individual\n",
        "                                p = (pred_outcome, actual_outcome) is a tuple of\n",
        "                                their predicted outcome and actual outcome.\n",
        "    Result:\n",
        "        cstat (float): c-statistic-for-benefit computed from pairs.\n",
        "    \"\"\"\n",
        "\n",
        "    # mapping pair outcomes to benefit\n",
        "    obs_benefit_dict = {\n",
        "        (0, 0): 0,\n",
        "        (0, 1): -1,\n",
        "        (1, 0): 1,\n",
        "        (1, 1): 0,\n",
        "    }\n",
        "\n",
        "    # compute observed benefit for each pair\n",
        "    obs_benefit = [obs_benefit_dict[(i[1],j[1])] for (i,j) in pairs]\n",
        "\n",
        "    # compute average predicted benefit for each pair\n",
        "    pred_benefit = [np.mean([i[0],j[0]]) for (i,j) in pairs]\n",
        "\n",
        "    concordant_count, permissible_count, risk_tie_count = 0, 0, 0\n",
        "\n",
        "    # iterate over pairs of pairs\n",
        "    for i in range(len(pairs)):\n",
        "      for j in range(i + 1, len(pairs)):\n",
        "\n",
        "            # if the observed benefit is different, increment permissible count\n",
        "            if obs_benefit[i] != obs_benefit[j]:\n",
        "\n",
        "                # increment count of permissible pairs\n",
        "                permissible_count = permissible_count + 1\n",
        "\n",
        "                # if concordant, increment count\n",
        "                concordance= ((pred_benefit[i]>pred_benefit[j] and obs_benefit[i]>obs_benefit[j]) or (pred_benefit[i]<pred_benefit[j] and obs_benefit[i]<obs_benefit[j]))\n",
        "\n",
        "                if (concordance): # change to check for concordance\n",
        "\n",
        "                    concordant_count = concordant_count + 1\n",
        "\n",
        "                # if risk tie, increment count\n",
        "                if (pred_benefit[i]==pred_benefit[j]): #change to check for risk ties\n",
        "                    risk_tie_count = risk_tie_count + 1\n",
        "\n",
        "\n",
        "    # compute c-statistic-for-benefit\n",
        "    cstat = (concordant_count + (0.5 * risk_tie_count)) / permissible_count\n",
        "\n",
        "    return cstat"
      ],
      "metadata": {
        "id": "6yfoElSXl25q"
      },
      "execution_count": null,
      "outputs": []
    },
    {
      "cell_type": "code",
      "source": [
        "def c_statistic(pred_rr, y, w, random_seed=0):\n",
        "    \"\"\"\n",
        "    Return concordance-for-benefit, the proportion of all matched pairs with\n",
        "    unequal observed benefit, in which the patient pair receiving greater\n",
        "    treatment benefit was predicted to do so.\n",
        "\n",
        "    Args:\n",
        "        pred_rr (array): array of predicted risk reductions\n",
        "        y (array): array of true outcomes\n",
        "        w (array): array of true treatments\n",
        "\n",
        "    Returns:\n",
        "        cstat (float): calculated c-stat-for-benefit\n",
        "    \"\"\"\n",
        "    assert len(pred_rr) == len(w) == len(y)\n",
        "    random.seed(random_seed)\n",
        "\n",
        "    ### START CODE HERE (REPLACE INSTANCES OF 'None' with your code) ###\n",
        "    # Collect pred_rr, y, and w into tuples for each patient\n",
        "    tuples = list(zip(pred_rr,y,w))\n",
        "\n",
        "    # Collect untreated patient tuples, stored as a list\n",
        "    untreated = list(filter(lambda x:x[2]==True, tuples))\n",
        "\n",
        "    # Collect treated patient tuples, stored as a list\n",
        "    treated = list(filter(lambda x:x[2]==False, tuples))\n",
        "\n",
        "    # randomly subsample to ensure every person is matched\n",
        "\n",
        "    # if there are more untreated than treated patients,\n",
        "    # randomly choose a subset of untreated patients, one for each treated patient.\n",
        "\n",
        "    if len(treated) < len(untreated):\n",
        "        untreated = random.sample(untreated,k=len(treated))\n",
        "\n",
        "    # if there are more treated than untreated patients,\n",
        "    # randomly choose a subset of treated patients, one for each treated patient.\n",
        "    if len(untreated) < len(treated):\n",
        "        treated = random.sample(treated,k=len(untreated))\n",
        "\n",
        "    assert len(untreated) == len(treated)\n",
        "\n",
        "    # Sort the untreated patients by their predicted risk reduction\n",
        "    untreated = sorted(untreated,key=lambda x:x[0])\n",
        "\n",
        "    # Sort the treated patients by their predicted risk reduction\n",
        "    treated = sorted(treated,key=lambda x:x[0])\n",
        "\n",
        "    # match untreated and treated patients to create pairs together\n",
        "    pairs = list(zip(treated,untreated))\n",
        "\n",
        "    # calculate the c-for-benefit using these pairs (use the function that you implemented earlier)\n",
        "    cstat = c_for_benefit_score(pairs)\n",
        "\n",
        "    return cstat"
      ],
      "metadata": {
        "id": "O71RTOgFl28M"
      },
      "execution_count": null,
      "outputs": []
    },
    {
      "cell_type": "code",
      "source": [
        "def treatment_control(X):\n",
        "    \"\"\"Create treatment and control versions of data\"\"\"\n",
        "    X_treatment = X.copy(deep=True)\n",
        "    X_control = X.copy(deep=True)\n",
        "    X_treatment.loc[:, 'TRTMT'] = 1\n",
        "    X_control.loc[:, 'TRTMT'] = 0\n",
        "    return X_treatment, X_control\n",
        "\n",
        "def risk_reduction(model, data_treatment, data_control):\n",
        "    \"\"\"Compute predicted risk reduction for each row in data\"\"\"\n",
        "    treatment_risk = model.predict_proba(data_treatment)[:, 1]\n",
        "    control_risk = model.predict_proba(data_control)[:, 1]\n",
        "    return control_risk - treatment_risk"
      ],
      "metadata": {
        "id": "IdwVIkSSl2-q"
      },
      "execution_count": null,
      "outputs": []
    },
    {
      "cell_type": "code",
      "source": [
        "X_test_treated, X_test_untreated = treatment_control(X_test)\n",
        "rr_lr = risk_reduction(lr, X_test_treated, X_test_untreated)"
      ],
      "metadata": {
        "id": "A484VLUFkwNQ"
      },
      "execution_count": null,
      "outputs": []
    },
    {
      "cell_type": "code",
      "source": [
        "plt.hist(rr_lr, bins='auto')\n",
        "plt.title(\"Histogram of Predicted ARR using logistic regression\")\n",
        "plt.ylabel(\"count of patients\")\n",
        "plt.xlabel(\"ARR\")\n",
        "plt.show()"
      ],
      "metadata": {
        "colab": {
          "base_uri": "https://localhost:8080/",
          "height": 641
        },
        "id": "3vUiHBMlmSV3",
        "outputId": "b372d568-709f-435b-fd9a-c6efaab6e712"
      },
      "execution_count": null,
      "outputs": [
        {
          "output_type": "display_data",
          "data": {
            "text/plain": [
              "<Figure size 1000x700 with 1 Axes>"
            ],
            "image/png": "[encoded data removed]"
          },
          "metadata": {}
        }
      ]
    },
    {
      "cell_type": "code",
      "source": [
        "tmp_cstat_test = c_statistic(rr_lr, y_test, X_test.TRTMT)\n",
        "print(f\"Logistic Regression evaluated by C-for-Benefit: {tmp_cstat_test:.4f}\")"
      ],
      "metadata": {
        "colab": {
          "base_uri": "https://localhost:8080/"
        },
        "id": "wdl5onaimVwh",
        "outputId": "3df39959-4a5f-494e-ce59-7489e224520b"
      },
      "execution_count": null,
      "outputs": [
        {
          "output_type": "stream",
          "name": "stdout",
          "text": [
            "Logistic Regression evaluated by C-for-Benefit: 0.5440\n"
          ]
        }
      ]
    },
    {
      "cell_type": "code",
      "source": [
        "from lifelines.utils import concordance_index\n",
        "tmp_regular_cindex = concordance_index(y_test, lr.predict_proba(X_test)[:, 1])\n",
        "print(f\"Logistic Regression evaluated by regular C-index: {tmp_regular_cindex:.4f}\")"
      ],
      "metadata": {
        "colab": {
          "base_uri": "https://localhost:8080/"
        },
        "id": "ynhC2NHjmX8u",
        "outputId": "0f0d916e-0c2a-48c6-8737-e5d43cd2350a"
      },
      "execution_count": null,
      "outputs": [
        {
          "output_type": "stream",
          "name": "stdout",
          "text": [
            "Logistic Regression evaluated by regular C-index: 0.7783\n"
          ]
        }
      ]
    },
    {
      "cell_type": "code",
      "source": [
        "def quantile_benefit(X, y, arr_hat):\n",
        "    df = X.copy(deep=True)\n",
        "    df.loc[:, 'y'] = y\n",
        "    df.loc[:, 'benefit'] = arr_hat\n",
        "    benefit_groups = pd.qcut(arr_hat, 10)\n",
        "    df.loc[:, 'benefit_groups'] = benefit_groups\n",
        "    empirical_benefit = df.loc[df.TRTMT == 0, :].groupby('benefit_groups').y.mean() - df.loc[df.TRTMT == 1].groupby('benefit_groups').y.mean()\n",
        "    avg_benefit = df.loc[df.TRTMT == 0, :].y.mean() - df.loc[df.TRTMT==1, :].y.mean()\n",
        "    return empirical_benefit, avg_benefit\n",
        "\n",
        "def plot_empirical_risk_reduction(emp_benefit, av_benefit, model):\n",
        "    plt.scatter(range(len(emp_benefit)), emp_benefit)\n",
        "    plt.xticks(range(len(emp_benefit)), range(1, len(emp_benefit) + 1))\n",
        "    plt.title(\"Empirical Risk Reduction vs. Predicted ({})\".format(model))\n",
        "    plt.ylabel(\"Empirical Risk Reduction\")\n",
        "    plt.xlabel(\"Predicted Risk Reduction Quantile\")\n",
        "    plt.plot(range(10), [av_benefit]*10, linestyle='--', label='average RR')\n",
        "    plt.legend(loc='lower right')\n",
        "    plt.show()\n",
        "\n",
        "emp_benefit, avg_benefit = quantile_benefit(X_test, y_test, rr_lr)\n",
        "plot_empirical_risk_reduction(emp_benefit, avg_benefit, \"Logistic Regression\")"
      ],
      "metadata": {
        "colab": {
          "base_uri": "https://localhost:8080/",
          "height": 641
        },
        "id": "1f9SKYvTmbga",
        "outputId": "79417ba6-4935-469d-f5a7-2ede5b19a792"
      },
      "execution_count": null,
      "outputs": [
        {
          "output_type": "display_data",
          "data": {
            "text/plain": [
              "<Figure size 1000x700 with 1 Axes>"
            ],
            "image/png": "[encoded data removed]"
          },
          "metadata": {}
        }
      ]
    },
    {
      "cell_type": "code",
      "source": [
        "class TLearner():\n",
        "    \"\"\"\n",
        "    T-Learner class.\n",
        "\n",
        "    Attributes:\n",
        "      treatment_estimator (object): fitted model for treatment outcome\n",
        "      control_estimator (object): fitted model for control outcome\n",
        "    \"\"\"\n",
        "    def __init__(self, treatment_estimator, control_estimator):\n",
        "        \"\"\"\n",
        "        Initializer for TLearner class.\n",
        "        \"\"\"\n",
        "        ### START CODE HERE (REPLACE INSTANCES OF 'None' with your code) ###\n",
        "        # set the treatment estimator\n",
        "        self.treatment_estimator = treatment_estimator\n",
        "\n",
        "        # set the control estimator\n",
        "        self.control_estimator = control_estimator\n",
        "\n",
        "        ### END CODE HERE ###\n",
        "\n",
        "    def predict(self, X):\n",
        "        \"\"\"\n",
        "        Return predicted risk reduction for treatment for given data matrix.\n",
        "\n",
        "        Args:\n",
        "          X (dataframe): dataframe containing features for each subject\n",
        "\n",
        "        Returns:\n",
        "          preds (np.array): predicted risk reduction for each row of X\n",
        "        \"\"\"\n",
        "        ### START CODE HERE (REPLACE INSTANCES OF 'None' with your code) ###\n",
        "        # predict the risk of death using the control estimator\n",
        "        risk_control = self.control_estimator.predict_proba(X)[:,1]\n",
        "\n",
        "        # predict the risk of death using the treatment estimator\n",
        "        risk_treatment = self.treatment_estimator.predict_proba(X)[:,1]\n",
        "\n",
        "        # the predicted risk reduction is control risk minus the treatment risk\n",
        "        pred_risk_reduction =  risk_control - risk_treatment\n",
        "\n",
        "\n",
        "        return pred_risk_reduction"
      ],
      "metadata": {
        "id": "UMGBNxVWmeBD"
      },
      "execution_count": null,
      "outputs": []
    },
    {
      "cell_type": "code",
      "source": [
        "def holdout_grid_search(clf, X_train_hp, y_train_hp, X_val_hp, y_val_hp, hyperparam, verbose=False):\n",
        "    '''\n",
        "    Conduct hyperparameter grid search on hold out validation set. Use holdout validation.\n",
        "    Hyperparameters are input as a dictionary mapping each hyperparameter name to the\n",
        "    range of values they should iterate over. Use the cindex function as your evaluation\n",
        "    function.\n",
        "\n",
        "    Input:\n",
        "        clf: sklearn classifier\n",
        "        X_train_hp (dataframe): dataframe for training set input variables\n",
        "        y_train_hp (dataframe): dataframe for training set targets\n",
        "        X_val_hp (dataframe): dataframe for validation set input variables\n",
        "        y_val_hp (dataframe): dataframe for validation set targets\n",
        "        hyperparam (dict): hyperparameter dictionary mapping hyperparameter\n",
        "                                                names to range of values for grid search\n",
        "\n",
        "    Output:\n",
        "        best_estimator (sklearn classifier): fitted sklearn classifier with best performance on\n",
        "                                                                                 validation set\n",
        "    '''\n",
        "    # Initialize best estimator\n",
        "    best_estimator = None\n",
        "\n",
        "    # initialize best hyperparam\n",
        "    best_hyperparam = {}\n",
        "\n",
        "    # initialize the c-index best score to zero\n",
        "    best_score = 0.0\n",
        "\n",
        "    ### START CODE HERE (REPLACE INSTANCES OF 'None' with your code) ###\n",
        "\n",
        "    # Get the values of the hyperparam and store them as a list of lists\n",
        "    hyper_param_l = list(hyperparam.values())\n",
        "\n",
        "    # Generate a list of tuples with all possible combinations of the hyperparams\n",
        "    combination_l_of_t = list(itertools.product(*hyper_param_l))\n",
        "\n",
        "    # Initialize the list of dictionaries for all possible combinations of hyperparams\n",
        "    combination_l_of_d = []\n",
        "\n",
        "    # loop through each tuple in the list of tuples\n",
        "    for val_tuple in combination_l_of_t: # complete this line\n",
        "        param_d = {}\n",
        "\n",
        "        # Enumerate each key in the original hyperparams dictionary\n",
        "        for i, k in enumerate(hyperparam): # complete this line\n",
        "\n",
        "            # add a key value pair to param_dict for each value in val_tuple\n",
        "            param_d[k] = val_tuple[i]\n",
        "\n",
        "        # append the param_dict to the list of dictionaries\n",
        "        combination_l_of_d.append(param_d)\n",
        "\n",
        "\n",
        "    # For each hyperparam dictionary in the list of dictionaries:\n",
        "    for param_d in combination_l_of_d: # complete this line\n",
        "\n",
        "        # Set the model to the given hyperparams\n",
        "        estimator = clf(**param_d)\n",
        "\n",
        "        # Train the model on the training features and labels\n",
        "        estimator.fit(X_train_hp,y_train_hp)\n",
        "\n",
        "        # Predict the risk of death using the validation features\n",
        "        preds = estimator.predict_proba(X_val_hp)\n",
        "\n",
        "        # Evaluate the model's performance using the regular concordance index\n",
        "        estimator_score = concordance_index(y_val_hp, preds[:,1])\n",
        "\n",
        "        # if the model's c-index is better than the previous best:\n",
        "        if estimator_score>best_score: # complete this line\n",
        "\n",
        "            # save the new best score\n",
        "            best_score = estimator_score\n",
        "\n",
        "            # same the new best estimator\n",
        "            best_estimator = estimator\n",
        "\n",
        "            # save the new best hyperparams\n",
        "            best_hyperparam = param_d\n",
        "\n",
        "    if verbose:\n",
        "        print(\"hyperparam:\")\n",
        "        display(hyperparam)\n",
        "\n",
        "        print(\"hyper_param_l\")\n",
        "        display(hyper_param_l)\n",
        "\n",
        "        print(\"combination_l_of_t\")\n",
        "        display(combination_l_of_t)\n",
        "\n",
        "        print(f\"combination_l_of_d\")\n",
        "        display(combination_l_of_d)\n",
        "\n",
        "        print(f\"best_hyperparam\")\n",
        "        display(best_hyperparam)\n",
        "        print(f\"best_score: {best_score:.4f}\")\n",
        "\n",
        "    return best_estimator, best_hyperparam\n"
      ],
      "metadata": {
        "id": "o-necJ9emlRi"
      },
      "execution_count": null,
      "outputs": []
    },
    {
      "cell_type": "code",
      "source": [
        "n = X_dev.shape[0]\n",
        "tmp_X_train = X_dev.iloc[:int(n*0.8),:]\n",
        "tmp_X_val = X_dev.iloc[int(n*0.8):,:]\n",
        "tmp_y_train = y_dev[:int(n*0.8)]\n",
        "tmp_y_val = y_dev[int(n*0.8):]\n",
        "\n",
        "hyperparams = {\n",
        "    'n_estimators': [10, 20],\n",
        "    'max_depth': [2, 5],\n",
        "    'min_samples_leaf': [0.1, 0.2],\n",
        "    'random_state' : [0]\n",
        "}\n",
        "\n",
        "from sklearn.ensemble import RandomForestClassifier\n",
        "control_model = holdout_grid_search(RandomForestClassifier,\n",
        "                                    tmp_X_train, tmp_y_train,\n",
        "                                    tmp_X_val, tmp_y_val, hyperparams, verbose=True)"
      ],
      "metadata": {
        "colab": {
          "base_uri": "https://localhost:8080/",
          "height": 999
        },
        "id": "scqdglK2m1SR",
        "outputId": "e726e06c-1482-4f94-bcf4-0139d39a86b9"
      },
      "execution_count": null,
      "outputs": [
        {
          "output_type": "stream",
          "name": "stdout",
          "text": [
            "hyperparam:\n"
          ]
        },
        {
          "output_type": "display_data",
          "data": {
            "text/plain": [
              "{'n_estimators': [10, 20],\n",
              " 'max_depth': [2, 5],\n",
              " 'min_samples_leaf': [0.1, 0.2],\n",
              " 'random_state': [0]}"
            ]
          },
          "metadata": {}
        },
        {
          "output_type": "stream",
          "name": "stdout",
          "text": [
            "hyper_param_l\n"
          ]
        },
        {
          "output_type": "display_data",
          "data": {
            "text/plain": [
              "[[10, 20], [2, 5], [0.1, 0.2], [0]]"
            ]
          },
          "metadata": {}
        },
        {
          "output_type": "stream",
          "name": "stdout",
          "text": [
            "combination_l_of_t\n"
          ]
        },
        {
          "output_type": "display_data",
          "data": {
            "text/plain": [
              "[(10, 2, 0.1, 0),\n",
              " (10, 2, 0.2, 0),\n",
              " (10, 5, 0.1, 0),\n",
              " (10, 5, 0.2, 0),\n",
              " (20, 2, 0.1, 0),\n",
              " (20, 2, 0.2, 0),\n",
              " (20, 5, 0.1, 0),\n",
              " (20, 5, 0.2, 0)]"
            ]
          },
          "metadata": {}
        },
        {
          "output_type": "stream",
          "name": "stdout",
          "text": [
            "combination_l_of_d\n"
          ]
        },
        {
          "output_type": "display_data",
          "data": {
            "text/plain": [
              "[{'n_estimators': 10,\n",
              "  'max_depth': 2,\n",
              "  'min_samples_leaf': 0.1,\n",
              "  'random_state': 0},\n",
              " {'n_estimators': 10,\n",
              "  'max_depth': 2,\n",
              "  'min_samples_leaf': 0.2,\n",
              "  'random_state': 0},\n",
              " {'n_estimators': 10,\n",
              "  'max_depth': 5,\n",
              "  'min_samples_leaf': 0.1,\n",
              "  'random_state': 0},\n",
              " {'n_estimators': 10,\n",
              "  'max_depth': 5,\n",
              "  'min_samples_leaf': 0.2,\n",
              "  'random_state': 0},\n",
              " {'n_estimators': 20,\n",
              "  'max_depth': 2,\n",
              "  'min_samples_leaf': 0.1,\n",
              "  'random_state': 0},\n",
              " {'n_estimators': 20,\n",
              "  'max_depth': 2,\n",
              "  'min_samples_leaf': 0.2,\n",
              "  'random_state': 0},\n",
              " {'n_estimators': 20,\n",
              "  'max_depth': 5,\n",
              "  'min_samples_leaf': 0.1,\n",
              "  'random_state': 0},\n",
              " {'n_estimators': 20,\n",
              "  'max_depth': 5,\n",
              "  'min_samples_leaf': 0.2,\n",
              "  'random_state': 0}]"
            ]
          },
          "metadata": {}
        },
        {
          "output_type": "stream",
          "name": "stdout",
          "text": [
            "best_hyperparam\n"
          ]
        },
        {
          "output_type": "display_data",
          "data": {
            "text/plain": [
              "{'n_estimators': 10,\n",
              " 'max_depth': 2,\n",
              " 'min_samples_leaf': 0.1,\n",
              " 'random_state': 0}"
            ]
          },
          "metadata": {}
        },
        {
          "output_type": "stream",
          "name": "stdout",
          "text": [
            "best_score: 0.5928\n"
          ]
        }
      ]
    },
    {
      "cell_type": "code",
      "source": [
        "def treatment_dataset_split(X_train, y_train, X_val, y_val):\n",
        "    \"\"\"\n",
        "    Separate treated and control individuals in training\n",
        "    and testing sets. Remember that returned\n",
        "    datasets should NOT contain the 'TRMT' column!\n",
        "\n",
        "    Args:\n",
        "        X_train (dataframe): dataframe for subject in training set\n",
        "        y_train (np.array): outcomes for each individual in X_train\n",
        "        X_val (dataframe): dataframe for subjects in validation set\n",
        "        y_val (np.array): outcomes for each individual in X_val\n",
        "\n",
        "    Returns:\n",
        "        X_treat_train (df): training set for treated subjects\n",
        "        y_treat_train (np.array): labels for X_treat_train\n",
        "        X_treat_val (df): validation set for treated subjects\n",
        "        y_treat_val (np.array): labels for X_treat_val\n",
        "        X_control_train (df): training set for control subjects\n",
        "        y_control_train (np.array): labels for X_control_train\n",
        "        X_control_val (np.array): validation set for control subjects\n",
        "        y_control_val (np.array): labels for X_control_val\n",
        "    \"\"\"\n",
        "\n",
        "    ### START CODE HERE (REPLACE INSTANCES OF 'None' with your code) ###\n",
        "\n",
        "    # From the training set, get features of patients who received treatment\n",
        "    X_treat_train = X_train[X_train.TRTMT==True]\n",
        "\n",
        "    # drop the 'TRTMT' column\n",
        "    X_treat_train = X_treat_train.drop(columns='TRTMT')\n",
        "\n",
        "    # From the training set, get the labels of patients who received treatment\n",
        "    y_treat_train = y_train[X_train.TRTMT==1]\n",
        "\n",
        "    # From the validation set, get the features of patients who received treatment\n",
        "    X_treat_val = X_val[X_val.TRTMT==True]\n",
        "\n",
        "    # Drop the 'TRTMT' column\n",
        "    X_treat_val = X_treat_val.drop(columns='TRTMT')\n",
        "\n",
        "    # From the validation set, get the labels of patients who received treatment\n",
        "    y_treat_val = y_val[X_val.TRTMT==1]\n",
        "\n",
        "# --------------------------------------------------------------------------------------------\n",
        "\n",
        "    # From the training set, get the features of patients who did not received treatment\n",
        "    X_control_train = X_train[X_train.TRTMT==False]\n",
        "\n",
        "    # Drop the TRTMT column\n",
        "    X_control_train = X_control_train.drop(columns='TRTMT')\n",
        "\n",
        "    # From the training set, get the labels of patients who did not receive treatment\n",
        "    y_control_train = y_train[X_train.TRTMT==False]\n",
        "\n",
        "    # From the validation set, get the features of patients who did not receive treatment\n",
        "    X_control_val = X_val[X_val.TRTMT==False]\n",
        "\n",
        "    # drop the 'TRTMT' column\n",
        "    X_control_val = X_control_val.drop(columns='TRTMT')\n",
        "\n",
        "    # From the validation set, get teh labels of patients who did not receive treatment\n",
        "    y_control_val = y_val[X_val.TRTMT==False]\n",
        "\n",
        "    ### END CODE HERE ###\n",
        "\n",
        "    return (X_treat_train, y_treat_train,\n",
        "            X_treat_val, y_treat_val,\n",
        "            X_control_train, y_control_train,\n",
        "            X_control_val, y_control_val)"
      ],
      "metadata": {
        "id": "H7cXAI1Nm4Ep"
      },
      "execution_count": null,
      "outputs": []
    },
    {
      "cell_type": "code",
      "source": [
        "# Tests\n",
        "example_df = pd.DataFrame(columns = ['ID', 'TRTMT'])\n",
        "example_df.ID = range(100)\n",
        "example_df.TRTMT = np.random.binomial(n=1, p=0.5, size=100)\n",
        "treated_ids = set(example_df[example_df.TRTMT==1].ID)\n",
        "example_y = example_df.TRTMT.values\n",
        "\n",
        "example_train, example_val, example_y_train, example_y_val = train_test_split(\n",
        "    example_df, example_y, test_size = 0.25, random_state=0\n",
        ")\n",
        "\n",
        "\n",
        "(x_treat_train, y_treat_train,\n",
        " x_treat_val, y_treat_val,\n",
        " x_control_train, y_control_train,\n",
        " x_control_val, y_control_val) = treatment_dataset_split(example_train, example_y_train,\n",
        "                                                         example_val, example_y_val)\n",
        "\n",
        "print(\"Tests\")\n",
        "pass_flag = True\n",
        "pass_flag = (len(x_treat_train) + len(x_treat_val) + len(x_control_train) +\n",
        "             len(x_control_val) == 100)\n",
        "print(f\"\\nDidn't lose any subjects: {pass_flag}\")\n",
        "pass_flag = ((\"TRTMT\" not in x_treat_train) and (\"TRTMT\" not in x_treat_val) and\n",
        "             (\"TRTMT\" not in x_control_train) and (\"TRTMT\" not in x_control_val))\n",
        "print(f\"\\nTRTMT not in any splits: {pass_flag}\")\n",
        "split_treated_ids = set(x_treat_train.ID).union(set(x_treat_val.ID))\n",
        "pass_flag = (len(split_treated_ids.union(treated_ids)) == len(treated_ids))\n",
        "print(f\"\\nTreated splits have all treated patients: {pass_flag}\")\n",
        "split_control_ids = set(x_control_train.ID).union(set(x_control_val.ID))\n",
        "pass_flag = (len(split_control_ids.intersection(treated_ids)) == 0)\n",
        "print(f\"\\nAll subjects in control split are untreated: {pass_flag}\")\n",
        "pass_flag = (len(set(x_treat_train.ID).intersection(x_treat_val.ID)) == 0)\n",
        "print(f\"\\nNo overlap between treat_train and treat_val: {pass_flag}\")\n",
        "pass_flag = (len(set(x_control_train.ID).intersection(x_control_val.ID)) == 0)\n",
        "print(f\"\\nNo overlap between control_train and control_val: {pass_flag}\")\n",
        "print(f\"\\n--> Expected: All statements should be True\")"
      ],
      "metadata": {
        "colab": {
          "base_uri": "https://localhost:8080/"
        },
        "id": "mpmwDnZRnDjV",
        "outputId": "82777904-a844-4ddc-c34e-50db033c86db"
      },
      "execution_count": null,
      "outputs": [
        {
          "output_type": "stream",
          "name": "stdout",
          "text": [
            "Tests\n",
            "\n",
            "Didn't lose any subjects: True\n",
            "\n",
            "TRTMT not in any splits: True\n",
            "\n",
            "Treated splits have all treated patients: True\n",
            "\n",
            "All subjects in control split are untreated: True\n",
            "\n",
            "No overlap between treat_train and treat_val: True\n",
            "\n",
            "No overlap between control_train and control_val: True\n",
            "\n",
            "--> Expected: All statements should be True\n"
          ]
        }
      ]
    },
    {
      "cell_type": "code",
      "source": [
        "# Import the random forest classifier to be used as the base learner\n",
        "from sklearn.ensemble import RandomForestClassifier\n",
        "\n",
        "# Split the dev data into train and validation sets\n",
        "X_train, X_val, y_train, y_val = train_test_split(X_dev,\n",
        "                                                  y_dev,\n",
        "                                                  test_size = 0.25,\n",
        "                                                  random_state = 0)"
      ],
      "metadata": {
        "id": "hg0Lvx96nG6N"
      },
      "execution_count": null,
      "outputs": []
    },
    {
      "cell_type": "code",
      "source": [
        "# get treatment and control arms of training and validation sets\n",
        "(X_treat_train, y_treat_train,\n",
        " X_treat_val, y_treat_val,\n",
        " X_control_train, y_control_train,\n",
        " X_control_val, y_control_val) = treatment_dataset_split(X_train, y_train,\n",
        "                                                         X_val, y_val)"
      ],
      "metadata": {
        "id": "4Wfi_sNWnJoQ"
      },
      "execution_count": null,
      "outputs": []
    },
    {
      "cell_type": "code",
      "source": [
        "# hyperparameter grid (we'll use the same one for both arms for convenience)\n",
        "# Note that we set random_state to zero\n",
        "# in order to make the output consistent each time it's run.\n",
        "hyperparams = {\n",
        "    'n_estimators': [100, 200],\n",
        "    'max_depth': [2, 5, 10, 40, None],\n",
        "    'min_samples_leaf': [1, 0.1, 0.2],\n",
        "    'random_state': [0]\n",
        "}"
      ],
      "metadata": {
        "id": "_o_11ud5nMkQ"
      },
      "execution_count": null,
      "outputs": []
    },
    {
      "cell_type": "code",
      "source": [
        "# perform grid search with the treatment data to find the best model\n",
        "treatment_model, best_hyperparam_treat  = holdout_grid_search(RandomForestClassifier,\n",
        "                                      X_treat_train, y_treat_train,\n",
        "                                      X_treat_val, y_treat_val, hyperparams)"
      ],
      "metadata": {
        "id": "irp9ZjOXnO9E"
      },
      "execution_count": null,
      "outputs": []
    },
    {
      "cell_type": "code",
      "source": [
        "# perform grid search with the control data to find the best model\n",
        "control_model, best_hyperparam_ctrl = holdout_grid_search(RandomForestClassifier,\n",
        "                                    X_control_train, y_control_train,\n",
        "                                    X_control_val, y_control_val, hyperparams)"
      ],
      "metadata": {
        "id": "uiT1Fl4xnQ8h"
      },
      "execution_count": null,
      "outputs": []
    },
    {
      "cell_type": "code",
      "source": [
        "# Save the treatment and control models into an instance of the TLearner class\n",
        "t_learner = TLearner(treatment_model, control_model)"
      ],
      "metadata": {
        "id": "-2qsKIEKntI0"
      },
      "execution_count": null,
      "outputs": []
    },
    {
      "cell_type": "code",
      "source": [
        "# Use the t-learner to predict the risk reduction for patients in the validation set\n",
        "rr_t_val = t_learner.predict(X_val.drop(['TRTMT'], axis=1))\n",
        "\n",
        "print(f\"X_val num of patients {X_val.shape[0]}\")\n",
        "print(f\"rr_t_val num of patient predictions {rr_t_val.shape[0]}\")"
      ],
      "metadata": {
        "colab": {
          "base_uri": "https://localhost:8080/"
        },
        "id": "66s2PXbKnUWu",
        "outputId": "e83f4fc3-8a83-4aec-ecd7-f2ac07239acc"
      },
      "execution_count": null,
      "outputs": [
        {
          "output_type": "stream",
          "name": "stdout",
          "text": [
            "X_val num of patients 114\n",
            "rr_t_val num of patient predictions 114\n"
          ]
        }
      ]
    },
    {
      "cell_type": "code",
      "source": [
        "plt.hist(rr_t_val, bins='auto')\n",
        "plt.title(\"Histogram of Predicted ARR, T-Learner, validation set\")\n",
        "plt.xlabel('predicted risk reduction')\n",
        "plt.ylabel('count of patients')\n",
        "plt.show()"
      ],
      "metadata": {
        "colab": {
          "base_uri": "https://localhost:8080/",
          "height": 641
        },
        "id": "PysPCANNnqLT",
        "outputId": "970c7ad6-3af4-40b6-efa5-1bbfa1aa75e1"
      },
      "execution_count": null,
      "outputs": [
        {
          "output_type": "display_data",
          "data": {
            "text/plain": [
              "<Figure size 1000x700 with 1 Axes>"
            ],
            "image/png": "[encoded data removed]"
          },
          "metadata": {}
        }
      ]
    },
    {
      "cell_type": "code",
      "source": [
        "empirical_benefit, avg_benefit = quantile_benefit(X_val, y_val, rr_t_val)\n",
        "plot_empirical_risk_reduction(empirical_benefit, avg_benefit, 'T Learner [val set]')"
      ],
      "metadata": {
        "colab": {
          "base_uri": "https://localhost:8080/",
          "height": 641
        },
        "id": "e6slppH4nyL4",
        "outputId": "b6d67dbd-f2b4-425f-8543-70710bf71dd0"
      },
      "execution_count": null,
      "outputs": [
        {
          "output_type": "display_data",
          "data": {
            "text/plain": [
              "<Figure size 1000x700 with 1 Axes>"
            ],
            "image/png": "[encoded data removed]"
          },
          "metadata": {}
        }
      ]
    },
    {
      "cell_type": "code",
      "source": [
        "c_for_benefit_tlearner_val_set = c_statistic(rr_t_val, y_val, X_val.TRTMT)\n",
        "print(f\"C-for-benefit statistic of T-learner on val set: {c_for_benefit_tlearner_val_set:.4f}\")"
      ],
      "metadata": {
        "colab": {
          "base_uri": "https://localhost:8080/"
        },
        "id": "kanogyPKn07u",
        "outputId": "38b1cdb3-b969-44e2-c9fc-685615d854be"
      },
      "execution_count": null,
      "outputs": [
        {
          "output_type": "stream",
          "name": "stdout",
          "text": [
            "C-for-benefit statistic of T-learner on val set: 0.5043\n"
          ]
        }
      ]
    },
    {
      "cell_type": "code",
      "source": [
        "# predict the risk reduction for each of the patients in the test set\n",
        "rr_t_test = t_learner.predict(X_test.drop(['TRTMT'], axis=1))"
      ],
      "metadata": {
        "id": "BPMpqtqsn4UZ"
      },
      "execution_count": null,
      "outputs": []
    },
    {
      "cell_type": "code",
      "source": [
        "# Plot a histogram of the predicted risk reduction\n",
        "plt.hist(rr_t_test, bins='auto')\n",
        "plt.title(\"Histogram of Predicted ARR for the T-learner on test set\")\n",
        "plt.xlabel(\"predicted risk reduction\")\n",
        "plt.ylabel(\"count of patients\")\n",
        "plt.show()"
      ],
      "metadata": {
        "colab": {
          "base_uri": "https://localhost:8080/",
          "height": 641
        },
        "id": "_5cbRTGyn6nQ",
        "outputId": "ab61113d-1974-45f8-db6a-9e76b3c7b976"
      },
      "execution_count": null,
      "outputs": [
        {
          "output_type": "display_data",
          "data": {
            "text/plain": [
              "<Figure size 1000x700 with 1 Axes>"
            ],
            "image/png": "[encoded data removed]"
          },
          "metadata": {}
        }
      ]
    },
    {
      "cell_type": "code",
      "source": [
        "# Plot the predicted versus empirical risk reduction for the test set\n",
        "empirical_benefit, avg_benefit = quantile_benefit(X_test, y_test, rr_t_test)\n",
        "plot_empirical_risk_reduction(empirical_benefit, avg_benefit, 'T Learner (test set)')"
      ],
      "metadata": {
        "id": "5msiKnwLn8uX",
        "outputId": "87ca8ad0-1a98-4ecd-9719-c5e6b2a12329",
        "colab": {
          "base_uri": "https://localhost:8080/",
          "height": 641
        }
      },
      "execution_count": null,
      "outputs": [
        {
          "output_type": "display_data",
          "data": {
            "text/plain": [
              "<Figure size 1000x700 with 1 Axes>"
            ],
            "image/png": "[encoded data removed]"
          },
          "metadata": {}
        }
      ]
    },
    {
      "cell_type": "code",
      "source": [
        "# calculate the c-for-benefit of the t-learner on the test set\n",
        "c_for_benefit_tlearner_test_set = c_statistic(rr_t_test, y_test, X_test.TRTMT)\n",
        "print(f\"C-for-benefit statistic on test set: {c_for_benefit_tlearner_test_set:.4f}\")"
      ],
      "metadata": {
        "id": "BRwbhCnon_Bt",
        "outputId": "ab2febbd-b93a-4019-9547-b12ae41c0693",
        "colab": {
          "base_uri": "https://localhost:8080/"
        }
      },
      "execution_count": null,
      "outputs": [
        {
          "output_type": "stream",
          "name": "stdout",
          "text": [
            "C-for-benefit statistic on test set: 0.5250\n"
          ]
        }
      ]
    },
    {
      "cell_type": "code",
      "source": [],
      "metadata": {
        "id": "EFY43dfwoBZs"
      },
      "execution_count": null,
      "outputs": []
    }
  ]
}